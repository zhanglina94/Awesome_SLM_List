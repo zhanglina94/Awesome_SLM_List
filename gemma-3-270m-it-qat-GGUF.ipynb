!pip install -U llama-cpp-python


