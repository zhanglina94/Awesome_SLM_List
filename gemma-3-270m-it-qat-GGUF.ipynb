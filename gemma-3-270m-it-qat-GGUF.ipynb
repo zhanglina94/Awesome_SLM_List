{
 "cells": [
  {
   "cell_type": "code",
   "execution_count": null,
   "id": "4c73092d",
   "metadata": {},
   "outputs": [
    {
     "ename": "",
     "evalue": "",
     "output_type": "error",
     "traceback": [
      "\u001b[1;31mThe kernel failed to start as the Python Environment 'llm (Python -1.-1.-1)' is no longer available. Consider selecting another kernel or refreshing the list of Python Environments."
     ]
    }
   ],
   "source": [
    "!pip install -U llama-cpp-python"
   ]
  },
  {
   "cell_type": "markdown",
   "id": "bd050793",
   "metadata": {},
   "source": [
    "# 使用GPU推理"
   ]
  },
  {
   "cell_type": "code",
   "execution_count": null,
   "id": "7d89f39c",
   "metadata": {},
   "outputs": [],
   "source": [
    "# !pip install llama-cpp-python\n",
    "\n",
    "from llama_cpp import Llama\n",
    "\n",
    "llm = Llama.from_pretrained(\n",
    "        repo_id=\"lmstudio-community/gemma-3-270m-it-qat-GGUF\",\n",
    "        filename=\"gemma-3-270m-it-qat-Q4_0.gguf\",\n",
    ")"
   ]
  },
  {
   "cell_type": "markdown",
   "id": "08b2021f",
   "metadata": {},
   "source": [
    "# 使用CPU推理"
   ]
  },
  {
   "cell_type": "code",
   "execution_count": null,
   "id": "da6904f7",
   "metadata": {},
   "outputs": [],
   "source": [
    "# !pip install llama-cpp-python\n",
    "\n",
    "from llama_cpp import Llama\n",
    "\n",
    "llm = Llama.from_pretrained(\n",
    "    repo_id=\"lmstudio-community/gemma-3-270m-it-qat-GGUF\",\n",
    "    filename=\"gemma-3-270m-it-qat-Q4_0.gguf\",\n",
    "    n_gpu_layers=-1,   # 只用 CPU\n",
    "    n_threads=8        # 可以根据你的 CPU 核心数调整\n",
    ")"
   ]
  },
  {
   "cell_type": "markdown",
   "id": "599b6035",
   "metadata": {},
   "source": [
    "# 推理"
   ]
  },
  {
   "cell_type": "code",
   "execution_count": null,
   "id": "c51b4f40",
   "metadata": {},
   "outputs": [],
   "source": [
    "\n",
    "llm.create_chat_completion(\n",
    "    messages=[\n",
    "        {\"role\": \"user\", \"content\": \"What is the capital of France?\"},\n",
    "        {\"role\": \"assistant\", \"content\": \"The capital of France is Paris.\"},\n",
    "        {\"role\": \"user\", \"content\": \"What is the population of Paris?\"}\n",
    "    ]\n",
    ")"
   ]
  }
 ],
 "metadata": {
  "kernelspec": {
   "display_name": "llm",
   "language": "python",
   "name": "python3"
  },
  "language_info": {
   "name": "python",
   "version": "-1.-1.-1"
  }
 },
 "nbformat": 4,
 "nbformat_minor": 5
}
